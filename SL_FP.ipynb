{
 "cells": [
  {
   "cell_type": "markdown",
   "id": "091fe6be-eecd-472d-a77d-16e79beba4c2",
   "metadata": {},
   "source": [
    "# DTSA 5509 Supervised Learning Final Project - Edible Mushroom Classification"
   ]
  },
  {
   "cell_type": "markdown",
   "id": "8b011bfb-6927-4ee3-9628-27f51173899c",
   "metadata": {},
   "source": [
    "## Project Topic\n",
    "##### When it comes to determining whether a wild mushroom is poisonous or not, there is no \"simple rule\" like there often is for other wild plant species. Thus, we can leverage an existing dataset that contains a number of categorical mushroom features in order to train a supervised binary classification algorithm that can help us determine whether a specific mushroom is likely to be poisonous or edible."
   ]
  },
  {
   "cell_type": "markdown",
   "id": "1372ba98-d6de-43d4-9c0a-a4a228a2ef96",
   "metadata": {},
   "source": [
    "## Data\n",
    "##### The data was found at this link: https://archive.ics.uci.edu/dataset/73/mushroom. It is public data from the UCI repository and the citation is as follows: Mushroom. (1987). UCI Machine Learning Repository. https://doi.org/10.24432/C5959T. \n",
    "##### The data is tabulated and contains 8124 rows and 22 features. All features are either Categorical or Binary, and the data is in a single-table form and gathered from a single data source. All features are possible descriptors of the features of a mushroom, and each entry corresponds to a single letter in the data. Some interesting features include the type of Odor of the mushroom and its natural Habitat. "
   ]
  },
  {
   "cell_type": "code",
   "execution_count": 18,
   "id": "802d1203-ceee-4125-b771-cc5708bb8218",
   "metadata": {},
   "outputs": [
    {
     "name": "stdout",
     "output_type": "stream",
     "text": [
      "Index(['poisonous', 'cap-shape', 'cap-surface', 'cap-color', 'bruises', 'odor',\n",
      "       'gill-attachment', 'gill-spacing', 'gill-size', 'gill-color',\n",
      "       'stalk-shape', 'stalk-root', 'stalk-surface-above-ring',\n",
      "       'stock-surface-below-ring', 'stalk-color-above-ring',\n",
      "       'stalk-color-below-ring', 'veil-type', 'veil-color', 'ring-number',\n",
      "       'ring-type', 'spore-print-color', 'population', 'habitat'],\n",
      "      dtype='object')\n"
     ]
    }
   ],
   "source": [
    "import pandas as pd\n",
    "\n",
    "df = pd.read_csv(\"agaricus-lepiota.data\")\n",
    "print(df.columns)"
   ]
  },
  {
   "cell_type": "markdown",
   "id": "c760516d-5622-4626-bcfe-a58bd444df5d",
   "metadata": {},
   "source": [
    "## Data Cleaning\n",
    "##### Our first step when cleaning our data is to convert all of our columns/features to the \"category\" dtype rather than \"object\" because all of our features are categorical, and it makes them easier to work with. Next, the documentation on the website makes a note that, for the \"stalk-root\" feature, 2480 entries have a \"?\" instead of an actual category because the value was not known. Since \"?\" isn't a valid category value, we should do something with this data. Since 2480 entries is less than one-third of the total 8124 entries, I opted not to drop the whole column, and instead decided to just drop all rows with a \"?\". I feel as if this should still give us plenty of data to work with, and it makes our conclusions more valid when we opt to only use valid categories."
   ]
  },
  {
   "cell_type": "code",
   "execution_count": 19,
   "id": "260416d8-46da-47f9-aa0a-89d7470ea2f1",
   "metadata": {},
   "outputs": [
    {
     "name": "stdout",
     "output_type": "stream",
     "text": [
      "Number of data rows before cleaning: 8124\n",
      "\n",
      "\n",
      "Original dtypes of columns: \n",
      "\n",
      "poisonous                   object\n",
      "cap-shape                   object\n",
      "cap-surface                 object\n",
      "cap-color                   object\n",
      "bruises                     object\n",
      "odor                        object\n",
      "gill-attachment             object\n",
      "gill-spacing                object\n",
      "gill-size                   object\n",
      "gill-color                  object\n",
      "stalk-shape                 object\n",
      "stalk-root                  object\n",
      "stalk-surface-above-ring    object\n",
      "stock-surface-below-ring    object\n",
      "stalk-color-above-ring      object\n",
      "stalk-color-below-ring      object\n",
      "veil-type                   object\n",
      "veil-color                  object\n",
      "ring-number                 object\n",
      "ring-type                   object\n",
      "spore-print-color           object\n",
      "population                  object\n",
      "habitat                     object\n",
      "dtype: object\n",
      "\n",
      "Modified dtypes of columns: \n",
      "\n",
      "poisonous                   category\n",
      "cap-shape                   category\n",
      "cap-surface                 category\n",
      "cap-color                   category\n",
      "bruises                     category\n",
      "odor                        category\n",
      "gill-attachment             category\n",
      "gill-spacing                category\n",
      "gill-size                   category\n",
      "gill-color                  category\n",
      "stalk-shape                 category\n",
      "stalk-root                  category\n",
      "stalk-surface-above-ring    category\n",
      "stock-surface-below-ring    category\n",
      "stalk-color-above-ring      category\n",
      "stalk-color-below-ring      category\n",
      "veil-type                   category\n",
      "veil-color                  category\n",
      "ring-number                 category\n",
      "ring-type                   category\n",
      "spore-print-color           category\n",
      "population                  category\n",
      "habitat                     category\n",
      "dtype: object\n",
      "\n",
      "Number of invalid values in each column before cleaning: \n",
      "\n",
      "poisonous                      0\n",
      "cap-shape                      0\n",
      "cap-surface                    0\n",
      "cap-color                      0\n",
      "bruises                        0\n",
      "odor                           0\n",
      "gill-attachment                0\n",
      "gill-spacing                   0\n",
      "gill-size                      0\n",
      "gill-color                     0\n",
      "stalk-shape                    0\n",
      "stalk-root                  2480\n",
      "stalk-surface-above-ring       0\n",
      "stock-surface-below-ring       0\n",
      "stalk-color-above-ring         0\n",
      "stalk-color-below-ring         0\n",
      "veil-type                      0\n",
      "veil-color                     0\n",
      "ring-number                    0\n",
      "ring-type                      0\n",
      "spore-print-color              0\n",
      "population                     0\n",
      "habitat                        0\n",
      "dtype: int64\n",
      "\n",
      "Number of invalid values in each column after cleaning: \n",
      "\n",
      "poisonous                   0\n",
      "cap-shape                   0\n",
      "cap-surface                 0\n",
      "cap-color                   0\n",
      "bruises                     0\n",
      "odor                        0\n",
      "gill-attachment             0\n",
      "gill-spacing                0\n",
      "gill-size                   0\n",
      "gill-color                  0\n",
      "stalk-shape                 0\n",
      "stalk-root                  0\n",
      "stalk-surface-above-ring    0\n",
      "stock-surface-below-ring    0\n",
      "stalk-color-above-ring      0\n",
      "stalk-color-below-ring      0\n",
      "veil-type                   0\n",
      "veil-color                  0\n",
      "ring-number                 0\n",
      "ring-type                   0\n",
      "spore-print-color           0\n",
      "population                  0\n",
      "habitat                     0\n",
      "dtype: int64\n",
      "\n",
      "Number of data rows after cleaning: 5644\n",
      "\n"
     ]
    }
   ],
   "source": [
    "print(\"Number of data rows before cleaning: \" + str(len(df)) + \"\\n\")\n",
    "print(\"\\nOriginal dtypes of columns: \\n\")\n",
    "print(df.dtypes)\n",
    "df = df.astype(\"category\")\n",
    "print(\"\\nModified dtypes of columns: \\n\")\n",
    "print(df.dtypes)\n",
    "df[\"stalk-root\"] = df[\"stalk-root\"].replace(\"?\", pd.NA)\n",
    "print(\"\\nNumber of invalid values in each column before cleaning: \\n\")\n",
    "print(df.isna().sum())\n",
    "df = df.dropna()\n",
    "print(\"\\nNumber of invalid values in each column after cleaning: \\n\")\n",
    "print(df.isna().sum())\n",
    "print(\"\\nNumber of data rows after cleaning: \" + str(len(df)) + \"\\n\")\n",
    "# TODO: visualizations"
   ]
  },
  {
   "cell_type": "markdown",
   "id": "47aa9cfa-32e7-46e9-94a0-9d27acef4704",
   "metadata": {},
   "source": [
    "## Exploratory Data Analysis"
   ]
  },
  {
   "cell_type": "markdown",
   "id": "ad1b71e6-2797-4081-9f76-bf6c0429a1a1",
   "metadata": {},
   "source": [
    "## Models"
   ]
  },
  {
   "cell_type": "markdown",
   "id": "83cdbf37-1e77-4496-8956-920478a454f7",
   "metadata": {},
   "source": [
    "## Results and Analysis"
   ]
  },
  {
   "cell_type": "markdown",
   "id": "69a0cb4d-8911-43f2-8b92-25a1f6ccea79",
   "metadata": {},
   "source": [
    "## Discussion and Conclusion"
   ]
  },
  {
   "cell_type": "markdown",
   "id": "fbbb1d73-0fcf-4007-9121-75093f876968",
   "metadata": {},
   "source": [
    "## Write-up"
   ]
  },
  {
   "cell_type": "markdown",
   "id": "3691e5f1-9f9a-4df4-877c-51a67cce5ee0",
   "metadata": {},
   "source": [
    "https://archive.ics.uci.edu/dataset/73/mushroom\n",
    "Mushroom. (1987). UCI Machine Learning Repository. https://doi.org/10.24432/C5959T.\n",
    "GitHub repo: https://github.com/mwcarlson/DS_ML_SL_FP/tree/master"
   ]
  },
  {
   "cell_type": "code",
   "execution_count": null,
   "id": "f4903121-fdd6-40ad-aed3-c871702e0f21",
   "metadata": {},
   "outputs": [],
   "source": []
  }
 ],
 "metadata": {
  "kernelspec": {
   "display_name": "Python 3 (ipykernel)",
   "language": "python",
   "name": "python3"
  },
  "language_info": {
   "codemirror_mode": {
    "name": "ipython",
    "version": 3
   },
   "file_extension": ".py",
   "mimetype": "text/x-python",
   "name": "python",
   "nbconvert_exporter": "python",
   "pygments_lexer": "ipython3",
   "version": "3.11.5"
  }
 },
 "nbformat": 4,
 "nbformat_minor": 5
}
